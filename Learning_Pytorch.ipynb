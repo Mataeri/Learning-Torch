{
  "nbformat": 4,
  "nbformat_minor": 0,
  "metadata": {
    "colab": {
      "provenance": [],
      "authorship_tag": "ABX9TyPwXDYmc/aUHLNa/hCRI1es",
      "include_colab_link": true
    },
    "kernelspec": {
      "name": "python3",
      "display_name": "Python 3"
    },
    "language_info": {
      "name": "python"
    }
  },
  "cells": [
    {
      "cell_type": "markdown",
      "metadata": {
        "id": "view-in-github",
        "colab_type": "text"
      },
      "source": [
        "<a href=\"https://colab.research.google.com/github/Mataeri/Learning-Torch/blob/main/Learning_Pytorch.ipynb\" target=\"_parent\"><img src=\"https://colab.research.google.com/assets/colab-badge.svg\" alt=\"Open In Colab\"/></a>"
      ]
    },
    {
      "cell_type": "code",
      "execution_count": 2,
      "metadata": {
        "id": "4N-A-u4g1jr6"
      },
      "outputs": [],
      "source": [
        "import torch as pyt"
      ]
    },
    {
      "cell_type": "code",
      "source": [],
      "metadata": {
        "id": "BHiUux5GnhEW"
      },
      "execution_count": null,
      "outputs": []
    }
  ]
}